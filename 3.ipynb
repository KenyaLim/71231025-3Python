{
 "cells": [
  {
   "cell_type": "code",
   "execution_count": 8,
   "metadata": {},
   "outputs": [
    {
     "name": "stdout",
     "output_type": "stream",
     "text": [
      "Input salah\n"
     ]
    }
   ],
   "source": [
    "#3.1\n",
    "suhu = int(input(\"Masukkan suhu tubuh : \"))\n",
    "\n",
    "if suhu >= 36.0 and suhu <=37.0:\n",
    "        print(\"Suhu normal\")\n",
    "elif suhu >=38.0 and suhu <=40.0:\n",
    "        print(\"Anda demam\")\n",
    "else:\n",
    "    print(\"Input salah\")"
   ]
  },
  {
   "cell_type": "code",
   "execution_count": 18,
   "metadata": {},
   "outputs": [
    {
     "name": "stdout",
     "output_type": "stream",
     "text": [
      "Input salah. Masukkan bilangan bulat.\n"
     ]
    }
   ],
   "source": [
    "#3.2\n",
    "try:\n",
    "    bil = int(input(\"Masukkan suatu bilangan : \"))\n",
    "    if bil > 0:\n",
    "        print(\"Positif\")\n",
    "    elif bil < 0:\n",
    "        print(\"Negatif\")\n",
    "    else:\n",
    "        print(\"Nol\")\n",
    "except ValueError:\n",
    "    print(\"Input salah. Masukkan bilangan bulat.\")"
   ]
  },
  {
   "cell_type": "code",
   "execution_count": 20,
   "metadata": {},
   "outputs": [
    {
     "name": "stdout",
     "output_type": "stream",
     "text": [
      "Semua angka sama besar yaitu 2\n"
     ]
    }
   ],
   "source": [
    "a = int(input(\"Masukkan bil pertama : \"))\n",
    "b = int(input(\"Masukkan bil kedua : \"))\n",
    "c = int(input(\"Masukkan bil ketiga : \"))\n",
    "\n",
    "if a == b == c:\n",
    "    print(\"Semua angka sama besar yaitu\", a)\n",
    "elif a >= b and a >= c:\n",
    "    print(\"Angka terbesar adalah\", a)\n",
    "elif b >= a and b >= c:\n",
    "    print(\"Angka terbesar adalah\", b)\n",
    "else:\n",
    "    print(\"Angka terbesar adalah\", c)"
   ]
  },
  {
   "cell_type": "code",
   "execution_count": 22,
   "metadata": {},
   "outputs": [
    {
     "name": "stdout",
     "output_type": "stream",
     "text": [
      "Input salah. Masukkan bilangan bulat.\n"
     ]
    }
   ],
   "source": [
    "#Soal 2\n",
    "try:\n",
    "    bil = int(input(\"Masukkan suatu bilangan : \"))\n",
    "    print(\"Positif\" if bil > 0 else \"Negatif\" if bil < 0 else \"Nol\")\n",
    "except:\n",
    "    print(\"Input salah. Masukkan bilangan bulat.\")"
   ]
  },
  {
   "cell_type": "code",
   "execution_count": 25,
   "metadata": {},
   "outputs": [
    {
     "name": "stdout",
     "output_type": "stream",
     "text": [
      "Jumlah hari: 31\n"
     ]
    }
   ],
   "source": [
    "#Soal 3\n",
    "def kalender(bulan):\n",
    "    if bulan == 1:\n",
    "        return 31\n",
    "    elif bulan == 2:\n",
    "        return 28\n",
    "    elif bulan == 3:\n",
    "        return 31\n",
    "    elif bulan == 4:\n",
    "        return 30\n",
    "    elif bulan == 5:\n",
    "        return 31\n",
    "    elif bulan == 6:\n",
    "        return 30\n",
    "    elif bulan == 7:\n",
    "        return 31\n",
    "    elif bulan == 8:\n",
    "        return 31\n",
    "    elif bulan == 9:\n",
    "        return 30\n",
    "    elif bulan == 10:\n",
    "        return 31\n",
    "    elif bulan == 11:\n",
    "        return 30\n",
    "    elif bulan == 12:\n",
    "        return 31\n",
    "    else:\n",
    "        return \"0\"\n",
    "\n",
    "bulan = int(input(\"Bulan 1-12 = \"))\n",
    "result = kalender(bulan)\n",
    "print(f\"Jumlah hari: {result}\")"
   ]
  },
  {
   "cell_type": "code",
   "execution_count": 28,
   "metadata": {},
   "outputs": [
    {
     "name": "stdout",
     "output_type": "stream",
     "text": [
      "Masukkan Sisi 1: 2\n",
      "Masukkan Sisi 2: 4\n",
      "Masukkan Sisi 3: 4\n",
      "2 Sisi sama\n"
     ]
    }
   ],
   "source": [
    "#Soal 4\n",
    "try: \n",
    "  sisi_1 = int(input(\"Masukkan Sisi 1: \"))\n",
    "  sisi_2 = int(input(\"Masukkan Sisi 2: \"))\n",
    "  sisi_3 = int(input(\"Masukkan Sisi 3: \"))\n",
    "\n",
    "  print(f\"Masukkan Sisi 1: {sisi_1}\")\n",
    "  print(f\"Masukkan Sisi 2: {sisi_2}\")\n",
    "  print(f\"Masukkan Sisi 3: {sisi_3}\")\n",
    "\n",
    "  if sisi_1 == sisi_2 == sisi_3:\n",
    "    print(\"3 Sisi Sama\")\n",
    "  elif sisi_1 == sisi_2 != sisi_3 or sisi_1 != sisi_2 == sisi_3 or sisi_1 == sisi_3 != sisi_2:\n",
    "    print(\"2 Sisi sama\")\n",
    "  else:\n",
    "    print(\"Tidak ada yang sama\")\n",
    "except:\n",
    "  print(\"Salah input\")"
   ]
  }
 ],
 "metadata": {
  "kernelspec": {
   "display_name": "Python 3",
   "language": "python",
   "name": "python3"
  },
  "language_info": {
   "codemirror_mode": {
    "name": "ipython",
    "version": 3
   },
   "file_extension": ".py",
   "mimetype": "text/x-python",
   "name": "python",
   "nbconvert_exporter": "python",
   "pygments_lexer": "ipython3",
   "version": "3.12.1"
  }
 },
 "nbformat": 4,
 "nbformat_minor": 2
}
